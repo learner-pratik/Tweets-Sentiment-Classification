{
  "nbformat": 4,
  "nbformat_minor": 0,
  "metadata": {
    "colab": {
      "provenance": []
    },
    "kernelspec": {
      "name": "python3",
      "display_name": "Python 3"
    },
    "language_info": {
      "name": "python"
    }
  },
  "cells": [
    {
      "cell_type": "code",
      "execution_count": 1,
      "metadata": {
        "id": "WTbcc4YtXJxZ"
      },
      "outputs": [],
      "source": [
        "# installing spark in colab and creating spark session\n",
        "\n",
        "!apt-get install openjdk-8-jdk-headless -qq > /dev/null\n",
        "!wget -q https://archive.apache.org/dist/spark/spark-3.0.0/spark-3.0.0-bin-hadoop3.2.tgz\n",
        "!tar xf spark-3.0.0-bin-hadoop3.2.tgz\n",
        "!pip install -q findspark\n",
        "\n",
        "import os\n",
        "os.environ[\"JAVA_HOME\"] = \"/usr/lib/jvm/java-8-openjdk-amd64\"\n",
        "os.environ[\"SPARK_HOME\"] = \"/content/spark-3.0.0-bin-hadoop3.2\"\n",
        "\n",
        "import findspark\n",
        "findspark.init()\n",
        "\n",
        "findspark.find()\n",
        "\n",
        "from pyspark.sql import SparkSession\n",
        "\n",
        "spark = SparkSession.builder\\\n",
        "        .master(\"local\")\\\n",
        "        .appName(\"Colab\")\\\n",
        "        .config('spark.ui.port', '4050')\\\n",
        "        .getOrCreate()\n",
        "\n",
        "sc = spark.sparkContext"
      ]
    },
    {
      "cell_type": "code",
      "source": [
        "from pyspark import SparkFiles\n",
        "url = \"/content/Tweets.csv\"\n",
        "spark.sparkContext.addFile(url)\n",
        "TweeterSent = spark.read.csv(\"file://\"+SparkFiles.get(\"Tweets.csv\"), header = True)"
      ],
      "metadata": {
        "id": "sFli__iJXQ8F"
      },
      "execution_count": 2,
      "outputs": []
    },
    {
      "cell_type": "code",
      "source": [
        "for col in TweeterSent.dtypes:\n",
        "    print(col[0]+\" , \"+col[1])"
      ],
      "metadata": {
        "colab": {
          "base_uri": "https://localhost:8080/"
        },
        "id": "41Fz80vuX0Wo",
        "outputId": "07d8c5a5-1c98-4045-bbe2-dab6e1e1a005"
      },
      "execution_count": 3,
      "outputs": [
        {
          "output_type": "stream",
          "name": "stdout",
          "text": [
            "tweet_id , string\n",
            "airline_sentiment , string\n",
            "airline_sentiment_confidence , string\n",
            "negativereason , string\n",
            "negativereason_confidence , string\n",
            "airline , string\n",
            "airline_sentiment_gold , string\n",
            "name , string\n",
            "negativereason_gold , string\n",
            "retweet_count , string\n",
            "text , string\n",
            "tweet_coord , string\n",
            "tweet_created , string\n",
            "tweet_location , string\n",
            "user_timezone , string\n"
          ]
        }
      ]
    },
    {
      "cell_type": "code",
      "source": [
        "#Checking for null values in the df columns\n",
        "from pyspark.sql.functions import col,isnan,when,count\n",
        "isNullFram = TweeterSent.select([count(when(col(c).contains('None') | \\\n",
        "                            col(c).contains('NULL') | \\\n",
        "                            (col(c) == '' ) | \\\n",
        "                            col(c).isNull() | \\\n",
        "                            isnan(c), c \n",
        "                           )).alias(c)\n",
        "                    for c in TweeterSent.columns])\n",
        "\n",
        "isNullFram.collect()"
      ],
      "metadata": {
        "colab": {
          "base_uri": "https://localhost:8080/"
        },
        "id": "znd8uJ4zX4DE",
        "outputId": "2c467b38-84f0-4b6d-b701-38df0d84a116"
      },
      "execution_count": 4,
      "outputs": [
        {
          "output_type": "execute_result",
          "data": {
            "text/plain": [
              "[Row(tweet_id=0, airline_sentiment=155, airline_sentiment_confidence=68, negativereason=5573, negativereason_confidence=4229, airline=179, airline_sentiment_gold=14788, name=196, negativereason_gold=14805, retweet_count=205, text=214, tweet_coord=13768, tweet_created=389, tweet_location=5010, user_timezone=5103)]"
            ]
          },
          "metadata": {},
          "execution_count": 4
        }
      ]
    },
    {
      "cell_type": "code",
      "source": [
        "TweeterSent.take(10)"
      ],
      "metadata": {
        "colab": {
          "base_uri": "https://localhost:8080/"
        },
        "id": "noVrbEeXYFDH",
        "outputId": "6b6b6b59-3784-4df3-cae9-d0f775426cd3"
      },
      "execution_count": 5,
      "outputs": [
        {
          "output_type": "execute_result",
          "data": {
            "text/plain": [
              "[Row(tweet_id='570306133677760513', airline_sentiment='neutral', airline_sentiment_confidence='1.0', negativereason=None, negativereason_confidence=None, airline='Virgin America', airline_sentiment_gold=None, name='cairdin', negativereason_gold=None, retweet_count='0', text='@VirginAmerica What @dhepburn said.', tweet_coord=None, tweet_created='2015-02-24 11:35:52 -0800', tweet_location=None, user_timezone='Eastern Time (US & Canada)'),\n",
              " Row(tweet_id='570301130888122368', airline_sentiment='positive', airline_sentiment_confidence='0.3486', negativereason=None, negativereason_confidence='0.0', airline='Virgin America', airline_sentiment_gold=None, name='jnardino', negativereason_gold=None, retweet_count='0', text=\"@VirginAmerica plus you've added commercials to the experience... tacky.\", tweet_coord=None, tweet_created='2015-02-24 11:15:59 -0800', tweet_location=None, user_timezone='Pacific Time (US & Canada)'),\n",
              " Row(tweet_id='570301083672813571', airline_sentiment='neutral', airline_sentiment_confidence='0.6837', negativereason=None, negativereason_confidence=None, airline='Virgin America', airline_sentiment_gold=None, name='yvonnalynn', negativereason_gold=None, retweet_count='0', text=\"@VirginAmerica I didn't today... Must mean I need to take another trip!\", tweet_coord=None, tweet_created='2015-02-24 11:15:48 -0800', tweet_location='Lets Play', user_timezone='Central Time (US & Canada)'),\n",
              " Row(tweet_id='570301031407624196', airline_sentiment='negative', airline_sentiment_confidence='1.0', negativereason='Bad Flight', negativereason_confidence='0.7033', airline='Virgin America', airline_sentiment_gold=None, name='jnardino', negativereason_gold=None, retweet_count='0', text='\"@VirginAmerica it\\'s really aggressive to blast obnoxious \"\"entertainment\"\" in your guests\\' faces &amp; they have little recourse\"', tweet_coord=None, tweet_created='2015-02-24 11:15:36 -0800', tweet_location=None, user_timezone='Pacific Time (US & Canada)'),\n",
              " Row(tweet_id='570300817074462722', airline_sentiment='negative', airline_sentiment_confidence='1.0', negativereason=\"Can't Tell\", negativereason_confidence='1.0', airline='Virgin America', airline_sentiment_gold=None, name='jnardino', negativereason_gold=None, retweet_count='0', text=\"@VirginAmerica and it's a really big bad thing about it\", tweet_coord=None, tweet_created='2015-02-24 11:14:45 -0800', tweet_location=None, user_timezone='Pacific Time (US & Canada)'),\n",
              " Row(tweet_id='570300767074181121', airline_sentiment='negative', airline_sentiment_confidence='1.0', negativereason=\"Can't Tell\", negativereason_confidence='0.6842', airline='Virgin America', airline_sentiment_gold=None, name='jnardino', negativereason_gold=None, retweet_count='0', text=\"@VirginAmerica seriously would pay $30 a flight for seats that didn't have this playing.\", tweet_coord=None, tweet_created=None, tweet_location=None, user_timezone=None),\n",
              " Row(tweet_id='it\\'s really the only bad thing about flying VA\"', airline_sentiment=None, airline_sentiment_confidence='2015-02-24 11:14:33 -0800', negativereason=None, negativereason_confidence='Pacific Time (US & Canada)', airline=None, airline_sentiment_gold=None, name=None, negativereason_gold=None, retweet_count=None, text=None, tweet_coord=None, tweet_created=None, tweet_location=None, user_timezone=None),\n",
              " Row(tweet_id='570300616901320704', airline_sentiment='positive', airline_sentiment_confidence='0.6745', negativereason=None, negativereason_confidence='0.0', airline='Virgin America', airline_sentiment_gold=None, name='cjmcginnis', negativereason_gold=None, retweet_count='0', text='@VirginAmerica yes, nearly every time I fly VX this “ear worm” won’t go away :)', tweet_coord=None, tweet_created='2015-02-24 11:13:57 -0800', tweet_location='San Francisco CA', user_timezone='Pacific Time (US & Canada)'),\n",
              " Row(tweet_id='570300248553349120', airline_sentiment='neutral', airline_sentiment_confidence='0.634', negativereason=None, negativereason_confidence=None, airline='Virgin America', airline_sentiment_gold=None, name='pilot', negativereason_gold=None, retweet_count='0', text='@VirginAmerica Really missed a prime opportunity for Men Without Hats parody, there. https://t.co/mWpG7grEZP', tweet_coord=None, tweet_created='2015-02-24 11:12:29 -0800', tweet_location='Los Angeles', user_timezone='Pacific Time (US & Canada)'),\n",
              " Row(tweet_id='570299953286942721', airline_sentiment='positive', airline_sentiment_confidence='0.6559', negativereason=None, negativereason_confidence=None, airline='Virgin America', airline_sentiment_gold=None, name='dhepburn', negativereason_gold=None, retweet_count='0', text=\"@virginamerica Well, I didn't…but NOW I DO! :-D\", tweet_coord=None, tweet_created='2015-02-24 11:11:19 -0800', tweet_location='San Diego', user_timezone='Pacific Time (US & Canada)')]"
            ]
          },
          "metadata": {},
          "execution_count": 5
        }
      ]
    },
    {
      "cell_type": "code",
      "source": [
        "#removing columns that have too many nulls (4000 and above )\n",
        "empty_columns = [\"negativereason\",\"airline_sentiment_gold\",\"negativereason_gold\",\"tweet_coord\",\"negativereason_confidence\",\"tweet_location\",\"user_timezone\"]\n",
        "for col in empty_columns:\n",
        "    TweeterSent = TweeterSent.drop(col)"
      ],
      "metadata": {
        "id": "V17a5sSDYOcU"
      },
      "execution_count": 6,
      "outputs": []
    },
    {
      "cell_type": "code",
      "source": [
        "TweeterSent = TweeterSent.dropna()\n",
        "TweeterSent.count()"
      ],
      "metadata": {
        "colab": {
          "base_uri": "https://localhost:8080/"
        },
        "id": "R7ACPNf4YSy4",
        "outputId": "26770656-c577-42e5-edab-a8bc8d549222"
      },
      "execution_count": 7,
      "outputs": [
        {
          "output_type": "execute_result",
          "data": {
            "text/plain": [
              "14448"
            ]
          },
          "metadata": {},
          "execution_count": 7
        }
      ]
    },
    {
      "cell_type": "code",
      "source": [
        "# check if any df column contains null value\n",
        "from pyspark.sql.functions import col,isnan,when,count\n",
        "isNullFram = TweeterSent.select([count(when(\n",
        "                            col(c).contains('NULL') | \\\n",
        "                            col(c).isNull() | \\\n",
        "                            isnan(c), c \n",
        "                           )).alias(c)\n",
        "                    for c in TweeterSent.columns])"
      ],
      "metadata": {
        "id": "lpyJwn3BYVhF"
      },
      "execution_count": 8,
      "outputs": []
    },
    {
      "cell_type": "code",
      "source": [
        "isNullFram.collect()"
      ],
      "metadata": {
        "colab": {
          "base_uri": "https://localhost:8080/"
        },
        "id": "B5JtV1nwYbd9",
        "outputId": "913e813d-93ff-4f10-b7ad-4e6c939e818d"
      },
      "execution_count": 9,
      "outputs": [
        {
          "output_type": "execute_result",
          "data": {
            "text/plain": [
              "[Row(tweet_id=0, airline_sentiment=0, airline_sentiment_confidence=0, airline=0, name=0, retweet_count=0, text=0, tweet_created=0)]"
            ]
          },
          "metadata": {},
          "execution_count": 9
        }
      ]
    },
    {
      "cell_type": "code",
      "source": [
        "from pyspark.ml.feature import StopWordsRemover, RegexTokenizer\n",
        "from pyspark.ml import Pipeline\n",
        "from pyspark.sql.functions import expr\n",
        "from pyspark.ml.feature import StringIndexer\n",
        "from pyspark.sql import SparkSession\n",
        "from pyspark.ml.classification import LogisticRegression\n",
        "from pyspark.ml.evaluation import MulticlassClassificationEvaluator\n",
        "from pyspark.ml.feature import HashingTF, Tokenizer\n",
        "from pyspark.ml.tuning import CrossValidator, ParamGridBuilder\n",
        "from pyspark.ml.feature import SQLTransformer\n",
        " \n",
        "# tokenize \n",
        "tokenizer = Tokenizer(inputCol=\"text\", outputCol=\"vector\")\n",
        "#stop word \n",
        "StopWords = StopWordsRemover(inputCol=\"vector\", outputCol=\"text_filtered\")\n",
        "# TF IDF \n",
        "ht = HashingTF(inputCol=\"text_filtered\", outputCol=\"features\")\n",
        " \n",
        "# Encoding String Indexer \n",
        "SI_tweet_created = StringIndexer(inputCol='tweet_created',outputCol='tweet_created_Index')\n",
        "SI_airline = StringIndexer(inputCol='airline',outputCol='airline_Index')\n",
        "SI_name = StringIndexer(inputCol='name',outputCol='name_Index')\n",
        "SI_airline_sentiment_confidence = StringIndexer(inputCol='airline_sentiment_confidence',outputCol='airline_sentiment_confidence_Index')\n",
        "SI_retweet_count = StringIndexer(inputCol='retweet_count',outputCol='retweet_count_Index')\n",
        "SI_airline_sentiment = StringIndexer(inputCol='airline_sentiment',outputCol='airline_sentiment_Index')\n",
        " \n",
        "# Sql Transformer for selecting required columns\n",
        "sqlDropCols = SQLTransformer(statement=\"SELECT airline_sentiment_Index, features FROM __THIS__\")\n",
        " \n",
        "# Logistic Regression\n",
        "lr = LogisticRegression(labelCol = 'airline_sentiment_Index')"
      ],
      "metadata": {
        "id": "Z7Ir_17OYeFJ"
      },
      "execution_count": 10,
      "outputs": []
    },
    {
      "cell_type": "code",
      "source": [
        "#Test and train split\n",
        "train, test = TweeterSent.randomSplit([0.9, 0.1], seed=12345)\n",
        "train.cache()\n",
        "test.cache()"
      ],
      "metadata": {
        "colab": {
          "base_uri": "https://localhost:8080/"
        },
        "id": "JE3oe2R4YjAO",
        "outputId": "e1d45053-f656-4227-d449-e432d458f33c"
      },
      "execution_count": 11,
      "outputs": [
        {
          "output_type": "execute_result",
          "data": {
            "text/plain": [
              "DataFrame[tweet_id: string, airline_sentiment: string, airline_sentiment_confidence: string, airline: string, name: string, retweet_count: string, text: string, tweet_created: string]"
            ]
          },
          "metadata": {},
          "execution_count": 11
        }
      ]
    },
    {
      "cell_type": "code",
      "source": [
        "train.take(5)"
      ],
      "metadata": {
        "colab": {
          "base_uri": "https://localhost:8080/"
        },
        "id": "T1uG0JzsYlzv",
        "outputId": "38c32d38-c163-4e00-dccd-6309f43102d9"
      },
      "execution_count": 12,
      "outputs": [
        {
          "output_type": "execute_result",
          "data": {
            "text/plain": [
              "[Row(tweet_id='567588278875213824', airline_sentiment='neutral', airline_sentiment_confidence='1.0', airline='Delta', name='JetBlueNews', retweet_count='0', text=\"@JetBlue's new CEO seeks the right balance to please passengers and Wall ... - Greenfield Daily Reporter http://t.co/LM3opxkxch\", tweet_created='2015-02-16 23:36:05 -0800'),\n",
              " Row(tweet_id='567590027375702016', airline_sentiment='negative', airline_sentiment_confidence='1.0', airline='Delta', name='nesi_1992', retweet_count='0', text='@JetBlue is REALLY getting on my nerves !! 😡😡 #nothappy', tweet_created='2015-02-16 23:43:02 -0800'),\n",
              " Row(tweet_id='567591480085463040', airline_sentiment='negative', airline_sentiment_confidence='1.0', airline='United', name='CPoutloud', retweet_count='0', text='@united yes. We waited in line for almost an hour to do so. Some passengers just left not wanting to wait past 1am.', tweet_created='2015-02-16 23:48:48 -0800'),\n",
              " Row(tweet_id='567592368451248130', airline_sentiment='negative', airline_sentiment_confidence='1.0', airline='United', name='brenduch', retweet_count='0', text='@united the we got into the gate at IAH on time and have given our seats and closed the flight. If you know people is arriving, have to wait', tweet_created='2015-02-16 23:52:20 -0800'),\n",
              " Row(tweet_id='567594449874587648', airline_sentiment='negative', airline_sentiment_confidence='1.0', airline='Southwest', name='VahidESQ', retweet_count='0', text=\"@SouthwestAir its cool that my bags take a bit longer, dont give me baggage blue balls-turn the carousel on, tell me it's coming, then not.\", tweet_created='2015-02-17 00:00:36 -0800')]"
            ]
          },
          "metadata": {},
          "execution_count": 12
        }
      ]
    },
    {
      "cell_type": "code",
      "source": [
        "test.take(5)"
      ],
      "metadata": {
        "colab": {
          "base_uri": "https://localhost:8080/"
        },
        "id": "WKoI9KBpYqQ8",
        "outputId": "29d6fc41-8d48-469b-c565-a895a36f4845"
      },
      "execution_count": 13,
      "outputs": [
        {
          "output_type": "execute_result",
          "data": {
            "text/plain": [
              "[Row(tweet_id='567680108002291712', airline_sentiment='positive', airline_sentiment_confidence='0.6645', airline='Delta', name='TravellerLukose', retweet_count='0', text='@JetBlue No worries. Delay was minor and dealt with nicely. It was captain of flight 2324 by the way.', tweet_created='2015-02-17 05:40:59 -0800'),\n",
              " Row(tweet_id='567686758708817921', airline_sentiment='neutral', airline_sentiment_confidence='0.6890000000000001', airline='Southwest', name='Tinygami', retweet_count='0', text=\"@SouthwestAir Is it a temporary site glitch or are you no longer offering flights from GRR to GEG after Feb? Can't find any online :(\", tweet_created='2015-02-17 06:07:25 -0800'),\n",
              " Row(tweet_id='567702414157824000', airline_sentiment='negative', airline_sentiment_confidence='1.0', airline='Southwest', name='lucasdavidson', retweet_count='0', text='@SouthwestAir on hold for 2 hours and then you hung up 3 Cancelled Flightled flights. Running out of daycare for our kids who are trapped at home.', tweet_created='2015-02-17 07:09:37 -0800'),\n",
              " Row(tweet_id='567715917983776772', airline_sentiment='negative', airline_sentiment_confidence='1.0', airline='Southwest', name='sahandmirza', retweet_count='0', text='@SouthwestAir been on hold for &gt;30 minutes about my Cancelled Flightled flight. Still not talked to anyone and flight is soon. What gives?', tweet_created='2015-02-17 08:03:17 -0800'),\n",
              " Row(tweet_id='567717415367090176', airline_sentiment='negative', airline_sentiment_confidence='1.0', airline='Southwest', name='PorterHaney', retweet_count='0', text=\"@SouthwestAir the last 4 times I've arrived @LASairport our gate has been blocked by a slow to depart plane leading to 30-60 min delays\", tweet_created='2015-02-17 08:09:14 -0800')]"
            ]
          },
          "metadata": {},
          "execution_count": 13
        }
      ]
    },
    {
      "cell_type": "code",
      "source": [
        "#parameter \n",
        "paramGrid = ParamGridBuilder() \\\n",
        "    .addGrid(ht.numFeatures, [10, 100, 1000]) \\\n",
        "    .addGrid(lr.regParam, [0.1, 0.01]) \\\n",
        "    .build()\n",
        " \n",
        "evaluator = MulticlassClassificationEvaluator(predictionCol = \"prediction\", labelCol = \"automatic\", metricName = \"accuracy\")\n",
        "evaluator.setLabelCol(\"airline_sentiment_Index\")"
      ],
      "metadata": {
        "colab": {
          "base_uri": "https://localhost:8080/"
        },
        "id": "o2T77qdYYt9h",
        "outputId": "655bfc1a-ce8a-4d99-e842-a81af9669da2"
      },
      "execution_count": 14,
      "outputs": [
        {
          "output_type": "execute_result",
          "data": {
            "text/plain": [
              "MulticlassClassificationEvaluator_58e1de7f1923"
            ]
          },
          "metadata": {},
          "execution_count": 14
        }
      ]
    },
    {
      "cell_type": "code",
      "source": [
        "# creating pipeline\n",
        "pipeline = Pipeline(stages = [SI_tweet_created,SI_airline,SI_name,SI_airline_sentiment_confidence,SI_retweet_count,SI_airline_sentiment,tokenizer, StopWords,ht, sqlDropCols, lr])"
      ],
      "metadata": {
        "id": "4wM6CaaTYyUK"
      },
      "execution_count": 15,
      "outputs": []
    },
    {
      "cell_type": "code",
      "source": [
        "crossval = CrossValidator(estimator=pipeline,\n",
        "                          estimatorParamMaps=paramGrid,\n",
        "                          evaluator = evaluator,\n",
        "                          numFolds=4)\n",
        " \n",
        "# Run cross-validation, and choose the best set of parameters.\n",
        "cvModel = crossval.fit(train)"
      ],
      "metadata": {
        "id": "frsMFYk0Y3Gz"
      },
      "execution_count": 16,
      "outputs": []
    },
    {
      "cell_type": "code",
      "source": [
        "# performing prediction on test data\n",
        "prediction = cvModel.transform(test)"
      ],
      "metadata": {
        "id": "TW9c_hJkY55R"
      },
      "execution_count": 17,
      "outputs": []
    },
    {
      "cell_type": "code",
      "source": [
        "prediction.take(10)"
      ],
      "metadata": {
        "colab": {
          "base_uri": "https://localhost:8080/"
        },
        "id": "Q6tE9TcaZkmn",
        "outputId": "4a41bd17-b029-4958-b24a-f38b85be7ace"
      },
      "execution_count": 18,
      "outputs": [
        {
          "output_type": "execute_result",
          "data": {
            "text/plain": [
              "[Row(airline_sentiment_Index=2.0, features=SparseVector(1000, {29: 1.0, 273: 1.0, 297: 1.0, 314: 1.0, 365: 1.0, 639: 1.0, 652: 1.0, 699: 1.0, 803: 1.0, 903: 1.0}), rawPrediction=DenseVector([0.8031, 0.1316, -0.9346]), probability=DenseVector([0.5928, 0.3029, 0.1043]), prediction=0.0),\n",
              " Row(airline_sentiment_Index=1.0, features=SparseVector(1000, {86: 1.0, 105: 1.0, 211: 1.0, 330: 1.0, 341: 1.0, 433: 1.0, 510: 1.0, 593: 1.0, 615: 1.0, 654: 1.0, 700: 1.0, 807: 1.0, 891: 1.0}), rawPrediction=DenseVector([1.0033, 0.1679, -1.1712]), probability=DenseVector([0.6463, 0.2803, 0.0735]), prediction=0.0),\n",
              " Row(airline_sentiment_Index=0.0, features=SparseVector(1000, {23: 1.0, 63: 1.0, 206: 1.0, 330: 1.0, 383: 1.0, 389: 1.0, 602: 1.0, 640: 1.0, 661: 1.0, 726: 1.0, 861: 1.0, 892: 1.0, 986: 1.0, 999: 1.0}), rawPrediction=DenseVector([2.1588, -0.5799, -1.5788]), probability=DenseVector([0.9187, 0.0594, 0.0219]), prediction=0.0),\n",
              " Row(airline_sentiment_Index=0.0, features=SparseVector(1000, {29: 1.0, 62: 1.0, 221: 1.0, 286: 1.0, 288: 1.0, 330: 1.0, 389: 1.0, 603: 1.0, 635: 1.0, 661: 1.0, 666: 1.0, 712: 1.0, 999: 1.0}), rawPrediction=DenseVector([2.7326, -1.9633, -0.7692]), probability=DenseVector([0.9622, 0.0088, 0.029]), prediction=0.0),\n",
              " Row(airline_sentiment_Index=0.0, features=SparseVector(1000, {39: 1.0, 61: 1.0, 159: 1.0, 189: 1.0, 203: 1.0, 305: 1.0, 330: 2.0, 369: 1.0, 533: 1.0, 536: 1.0, 752: 1.0, 873: 1.0, 939: 1.0, 989: 1.0}), rawPrediction=DenseVector([1.1151, 0.2749, -1.39]), probability=DenseVector([0.6608, 0.2852, 0.054]), prediction=0.0),\n",
              " Row(airline_sentiment_Index=1.0, features=SparseVector(1000, {66: 1.0, 159: 1.0, 297: 1.0}), rawPrediction=DenseVector([0.0021, 0.1253, -0.1273]), probability=DenseVector([0.3323, 0.3758, 0.2919]), prediction=1.0),\n",
              " Row(airline_sentiment_Index=0.0, features=SparseVector(1000, {25: 1.0, 434: 1.0, 519: 1.0, 626: 1.0, 726: 1.0, 736: 1.0}), rawPrediction=DenseVector([0.2504, 1.0601, -1.3105]), probability=DenseVector([0.2892, 0.65, 0.0607]), prediction=1.0),\n",
              " Row(airline_sentiment_Index=0.0, features=SparseVector(1000, {20: 1.0, 540: 1.0, 560: 1.0, 979: 1.0}), rawPrediction=DenseVector([0.9441, 0.1798, -1.1239]), probability=DenseVector([0.6281, 0.2925, 0.0794]), prediction=0.0),\n",
              " Row(airline_sentiment_Index=0.0, features=SparseVector(1000, {39: 1.0, 57: 1.0, 61: 1.0, 423: 1.0, 429: 1.0, 430: 1.0, 482: 1.0, 487: 1.0, 736: 1.0}), rawPrediction=DenseVector([1.8923, -1.0417, -0.8506]), probability=DenseVector([0.8948, 0.0476, 0.0576]), prediction=0.0),\n",
              " Row(airline_sentiment_Index=0.0, features=SparseVector(1000, {16: 1.0, 37: 1.0, 330: 1.0, 345: 1.0, 354: 1.0, 691: 1.0, 736: 1.0, 826: 1.0}), rawPrediction=DenseVector([1.1861, -0.4138, -0.7723]), probability=DenseVector([0.7446, 0.1504, 0.1051]), prediction=0.0)]"
            ]
          },
          "metadata": {},
          "execution_count": 18
        }
      ]
    },
    {
      "cell_type": "code",
      "source": [
        "# Instantiate metrics object\n",
        "from pyspark.mllib.evaluation import MulticlassMetrics\n",
        "predictionAndLabels = prediction.select(['prediction', 'airline_sentiment_Index']).withColumnRenamed('airline_sentiment_Index', 'label').rdd\n",
        "metrics = MulticlassMetrics(predictionAndLabels)\n",
        "metrics.confusionMatrix().toArray()"
      ],
      "metadata": {
        "colab": {
          "base_uri": "https://localhost:8080/"
        },
        "id": "LUdhQluAZn5G",
        "outputId": "aa408ebe-2c30-4e39-edf5-5e4cc2df35e8"
      },
      "execution_count": 19,
      "outputs": [
        {
          "output_type": "execute_result",
          "data": {
            "text/plain": [
              "array([[835.,  52.,  25.],\n",
              "       [165., 110.,  28.],\n",
              "       [112.,  30.,  89.]])"
            ]
          },
          "metadata": {},
          "execution_count": 19
        }
      ]
    },
    {
      "cell_type": "code",
      "source": [
        "from pyspark.sql.types import StructType, StructField, DoubleType, FloatType, StringType\n",
        "# defining dataframe schema for metrics table inclusing productive metric terms as headers for each row of data labels\n",
        "schema = StructType([\n",
        "    StructField(\"Label\", StringType(), True), \n",
        "    StructField(\"True Positive Rate\", DoubleType(), True),\n",
        "    StructField(\"False Positive Rate\", DoubleType(), True),\n",
        "    StructField(\"Precision\", DoubleType(), True),\n",
        "    StructField(\"Recall\", DoubleType(), True),\n",
        "    StructField(\"F1 Score\", DoubleType(), True),\n",
        "])\n",
        "df = spark.createDataFrame([], schema)"
      ],
      "metadata": {
        "id": "FurEWwwQZsZX"
      },
      "execution_count": 20,
      "outputs": []
    },
    {
      "cell_type": "code",
      "source": [
        "#loop for classes 0.0 to 2.0 for 3 classes of data labels\n",
        "for i in range(3):\n",
        "    tempList = [str(float(i)),metrics.truePositiveRate(float(i)),metrics.falsePositiveRate(float(i)),metrics.precision(float(i)),metrics.recall(float(i)),metrics.fMeasure(float(i))] \n",
        "    tempDf = spark.createDataFrame([tempList])\n",
        "    df = df.union(tempDf)\n",
        " \n",
        "df.collect()"
      ],
      "metadata": {
        "colab": {
          "base_uri": "https://localhost:8080/"
        },
        "id": "QwoID_otZwUs",
        "outputId": "f010d1d6-a439-46e1-a0d1-08792d9725d4"
      },
      "execution_count": 21,
      "outputs": [
        {
          "output_type": "execute_result",
          "data": {
            "text/plain": [
              "[Row(Label='0.0', True Positive Rate=0.9155701754385965, False Positive Rate=0.5187265917602997, Precision=0.7508992805755396, Recall=0.9155701754385965, F1 Score=0.8250988142292491),\n",
              " Row(Label='1.0', True Positive Rate=0.36303630363036304, False Positive Rate=0.07174103237095363, Precision=0.5729166666666666, Recall=0.36303630363036304, F1 Score=0.4444444444444444),\n",
              " Row(Label='2.0', True Positive Rate=0.3852813852813853, False Positive Rate=0.043621399176954734, Precision=0.6267605633802817, Recall=0.3852813852813853, F1 Score=0.47721179624664883)]"
            ]
          },
          "metadata": {},
          "execution_count": 21
        }
      ]
    },
    {
      "cell_type": "code",
      "source": [
        "# model accuracy\n",
        "print(metrics.accuracy)"
      ],
      "metadata": {
        "colab": {
          "base_uri": "https://localhost:8080/"
        },
        "id": "taTztKlCZ04r",
        "outputId": "77b99cc8-610f-41c0-d348-7ce3b19ddb72"
      },
      "execution_count": 22,
      "outputs": [
        {
          "output_type": "stream",
          "name": "stdout",
          "text": [
            "0.715076071922545\n"
          ]
        }
      ]
    }
  ]
}